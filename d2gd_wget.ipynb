{
  "nbformat": 4,
  "nbformat_minor": 0,
  "metadata": {
    "colab": {
      "name": "d2gd_wget",
      "provenance": [],
      "collapsed_sections": []
    },
    "kernelspec": {
      "display_name": "Python 3",
      "language": "python",
      "name": "python3"
    }
  },
  "cells": [
    {
      "cell_type": "markdown",
      "metadata": {
        "id": "aQuWDmfm9YOi"
      },
      "source": [
        "# Download To Google Drive "
      ]
    },
    {
      "cell_type": "markdown",
      "metadata": {
        "id": "Uf90U73y9YOj"
      },
      "source": [
        "### Mount your Google Drive"
      ]
    },
    {
      "cell_type": "code",
      "metadata": {
        "id": "oWM9l2fvtuvO"
      },
      "source": [
        "from google.colab import drive\n",
        "\n",
        "drive.mount(\"/content/drive\")"
      ],
      "execution_count": null,
      "outputs": []
    },
    {
      "cell_type": "markdown",
      "metadata": {
        "id": "R_1XuuIf9YOn"
      },
      "source": [
        "### Select download location"
      ]
    },
    {
      "cell_type": "code",
      "metadata": {
        "id": "FpIkTd-alp1D"
      },
      "source": [
        "import os\n",
        "os.chdir(\"/content/drive/My Drive/downloads\")\n",
        "arr = os.listdir()\n",
        "print(arr)"
      ],
      "execution_count": null,
      "outputs": []
    },
    {
      "cell_type": "markdown",
      "metadata": {
        "id": "tbma15mnmQ2F"
      },
      "source": [
        "### Let's download"
      ]
    },
    {
      "cell_type": "code",
      "metadata": {
        "id": "44wa2_1CmcBX",
        "outputId": "59a43cbe-0631-4161-bcab-e575bdee9cba",
        "colab": {
          "base_uri": "https://localhost:8080/",
          "height": 289
        }
      },
      "source": [
        "import os\n",
        "\n",
        "links = []\n",
        "last_index = (len(links) - 1)\n",
        "download_ok = True\n",
        "\n",
        "# # get save path\n",
        "# if not os.path.exists('downloads'):\n",
        "#     os.makedirs('downloads')\n",
        "# save_path = 'downloads'\n",
        "\n",
        "print(\"\\n *** SimPyDl ***\\n\")\n",
        "print(\"Enter 'exit' in nothing else to download.\\n\")\n",
        "\n",
        "download_url = input(\"file #1: Enter download url: \")\n",
        "\n",
        "links.append(download_url)\n",
        "\n",
        "while download_url != 'exit':\n",
        "    download_url = input(f\"file #{len(links) + 1}: Enter download url: \")\n",
        "    links.append(download_url)\n",
        "\n",
        "confirm_start = input(\"\\nStart downloads? Enter 'y' to agree: \")\n",
        "\n",
        "\n",
        "# download function\n",
        "def get_downloads(file_download_url):\n",
        "    try:\n",
        "        # wget file_download_url\n",
        "        os.system(f\"\"\"wget ‐‐refer=http://google.com --user-agent 'Mozilla/5.0 (Windows NT 10.0; Win64; x64; rv:81.0) Gecko/20100101 Firefox/81.0' '{file_download_url}'\"\"\")\n",
        "        print(f\"\\n    file #{links.index(file_download_url) + 1} download complete.\")\n",
        "    \n",
        "    except:\n",
        "        global download_ok\n",
        "        download_ok = False\n",
        "        print(\"\\nSomething went wrong!\\n\")\n",
        "\n",
        "\n",
        "# start downloads function\n",
        "def start_download(confirm_start):\n",
        "    if confirm_start == 'y':\n",
        "        print(\"\\nStarting download process...\")\n",
        "        for link in links:\n",
        "            if link != 'exit':\n",
        "                print(f\"file #{links.index(link) + 1}:\")\n",
        "                get_downloads(link)\n",
        "            else:\n",
        "                global download_ok\n",
        "                if download_ok:\n",
        "                    print(\"\\nEverything downloaded successfully!\")\n",
        "    else:\n",
        "        print(\"\\nOK! Run the program again if something else to download.\\n\")\n",
        "\n",
        "\n",
        "# start process\n",
        "start_download(confirm_start);"
      ],
      "execution_count": null,
      "outputs": []
    }
  ]
}