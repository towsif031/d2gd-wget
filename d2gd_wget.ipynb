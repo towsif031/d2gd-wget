{
  "nbformat": 4,
  "nbformat_minor": 0,
  "metadata": {
    "colab": {
      "name": "d2gd_wget",
      "provenance": [],
      "collapsed_sections": []
    },
    "kernelspec": {
      "display_name": "Python 3",
      "language": "python",
      "name": "python3"
    }
  },
  "cells": [
    {
      "cell_type": "markdown",
      "metadata": {
        "id": "aQuWDmfm9YOi"
      },
      "source": [
        "# Download To Google Drive "
      ]
    },
    {
      "cell_type": "markdown",
      "metadata": {
        "id": "Uf90U73y9YOj"
      },
      "source": [
        "### Mount your Google Drive"
      ]
    },
    {
      "cell_type": "code",
      "metadata": {
        "id": "oWM9l2fvtuvO"
      },
      "source": [
        "from google.colab import drive\n",
        "\n",
        "drive.mount(\"/content/drive\")"
      ],
      "execution_count": null,
      "outputs": []
    },
    {
      "cell_type": "markdown",
      "metadata": {
        "id": "R_1XuuIf9YOn"
      },
      "source": [
        "### Select download location"
      ]
    },
    {
      "cell_type": "code",
      "metadata": {
        "id": "FpIkTd-alp1D"
      },
      "source": [
        "import os\n",
        "os.chdir(\"/content/drive/My Drive/downloads\")"
      ],
      "execution_count": null,
      "outputs": []
    },
    {
      "cell_type": "markdown",
      "metadata": {
        "id": "tNWY5Da6EFVa"
      },
      "source": [
        "\n",
        "\n",
        "---\n",
        "\n"
      ]
    },
    {
      "cell_type": "markdown",
      "metadata": {
        "id": "tbma15mnmQ2F"
      },
      "source": [
        "### Let's download"
      ]
    },
    {
      "cell_type": "code",
      "metadata": {
        "id": "44wa2_1CmcBX"
      },
      "source": [
        "import os\n",
        "import posixpath\n",
        "try:\n",
        "    from urlparse import urlsplit\n",
        "    from urllib import unquote\n",
        "except ImportError: # Python 3\n",
        "    from urllib.parse import urlsplit, unquote\n",
        "\n",
        "links = []\n",
        "last_index = (len(links) - 1)\n",
        "download_ok = True\n",
        "\n",
        "# get filename\n",
        "def url_to_filename(file_url):\n",
        "    urlpath = urlsplit(file_url).path\n",
        "    basename = posixpath.basename(unquote(urlpath))\n",
        "    if (os.path.basename(basename) != basename or\n",
        "        unquote(posixpath.basename(urlpath)) != basename):\n",
        "        raise ValueError\n",
        "    return basename\n",
        "\n",
        "# download function\n",
        "def get_downloads(file_download_url):\n",
        "    try:\n",
        "        current_filename = url_to_filename(file_download_url)\n",
        "        os.system(f\"\"\"wget ‐‐refer=http://google.com --user-agent 'Mozilla/5.0 (Windows NT 10.0; Win64; x64; rv:81.0) Gecko/20100101 Firefox/81.0' --output-document={current_filename} '{file_download_url}'\"\"\")\n",
        "        print(f\"\\n    file #{links.index(file_download_url) + 1} download complete.\")\n",
        "    \n",
        "    except:\n",
        "        global download_ok\n",
        "        download_ok = False\n",
        "        print(\"\\nSomething went wrong!\\n\")\n",
        "\n",
        "\n",
        "# start downloads function\n",
        "def start_download(confirm_start):\n",
        "    if confirm_start == 'y':\n",
        "        print(\"\\nStarting download process...\")\n",
        "        for link in links:\n",
        "            if link != 'exit':\n",
        "                print(f\"file #{links.index(link) + 1}:\")\n",
        "                get_downloads(link)\n",
        "            else:\n",
        "                global download_ok\n",
        "                if download_ok:\n",
        "                    print(\"\\nEverything downloaded successfully!\")\n",
        "    else:\n",
        "        print(\"\\nOK! Run the program again if something else to download.\\n\")\n",
        "\n",
        "\n",
        "# main function\n",
        "def main():\n",
        "    print(\"\\n *** SimPyDl ***\\n\")\n",
        "    print(\"Enter 'exit' in nothing else to download.\\n\")\n",
        "\n",
        "    download_url = input(\"file #1: Enter download url: \")\n",
        "\n",
        "    links.append(download_url)\n",
        "\n",
        "    while download_url != 'exit':\n",
        "        download_url = input(f\"file #{len(links) + 1}: Enter download url: \")\n",
        "        links.append(download_url)\n",
        "\n",
        "    confirm_start = input(\"\\nStart downloads? Enter 'y' to agree: \")\n",
        "\n",
        "    # start process\n",
        "    start_download(confirm_start);\n",
        "\n",
        "\n",
        "if __name__ == '__main__':\n",
        "    main()"
      ],
      "execution_count": null,
      "outputs": []
    },
    {
      "cell_type": "markdown",
      "metadata": {
        "id": "4Zg0568iDiX9"
      },
      "source": [
        "\n",
        "\n",
        "---\n",
        "\n",
        "\n",
        "\n",
        "\n",
        "---\n"
      ]
    },
    {
      "cell_type": "markdown",
      "metadata": {
        "id": "dhAqc_ipDSfN"
      },
      "source": [
        "###Fix file extensions"
      ]
    },
    {
      "cell_type": "code",
      "metadata": {
        "id": "ntXFrQGEDaNw"
      },
      "source": [
        "pip install filetype"
      ],
      "execution_count": null,
      "outputs": []
    },
    {
      "cell_type": "code",
      "metadata": {
        "id": "2DBhgBDCDWOo"
      },
      "source": [
        "import os\n",
        "import filetype\n",
        "import pathlib\n",
        "\n",
        "current_path = pathlib.Path().absolute()\n",
        "print(current_path)\n",
        "\n",
        "file_list = os.listdir()\n",
        "print(file_list)\n",
        "\n",
        "\n",
        "def get_missing_extension():\n",
        "    for file in file_list:\n",
        "        if not os.path.splitext(file)[1]:\n",
        "            print(file)\n",
        "            filename = file\n",
        "            kind = filetype.guess(f\"{current_path}/{filename}\")\n",
        "            if kind is None:\n",
        "                print('Cannot guess file type!')\n",
        "                return\n",
        "            # print(f\"{current_path}/{filename}\")\n",
        "            print(f\"\\nExtension of {file}: {kind.extension}\")\n",
        "            print(f\"MIME type of {file}: {kind.mime}\\n\")\n",
        "\n",
        "            file_extension = '.' + kind.extension\n",
        "            new_filename = filename + file_extension\n",
        "            os.rename(filename, new_filename)\n",
        "\n",
        "\n",
        "def main():\n",
        "    get_missing_extension()\n",
        "    new_file_list = os.listdir()\n",
        "    print(new_file_list)\n",
        "\n",
        "\n",
        "if __name__ == '__main__':\n",
        "    main()"
      ],
      "execution_count": null,
      "outputs": []
    },
    {
      "cell_type": "markdown",
      "metadata": {
        "id": "01MYHV0hG3Xr"
      },
      "source": [
        "\n",
        "\n",
        "---\n",
        "\n"
      ]
    }
  ]
}